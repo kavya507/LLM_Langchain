{
 "cells": [
  {
   "cell_type": "code",
   "execution_count": null,
   "metadata": {},
   "outputs": [],
   "source": [
    "from langchain.llms import OpenAI\n",
    "\n",
    "import os\n",
    "llm = OpenAI(openai_api_key=os.environ[\"OPEN_API_KEY\"],temperature=0.6)\n",
    "text = \"what is the capital of India\"\n",
    "print(llm.invoke(text))\n",
    "kavya = os.environ.get('HUGGINGFACEHUB_API_TOKEN')\n",
    "print(kavya)\n",
    "from langchain import HuggingFaceHub\n",
    "llm_hugging_face = HuggingFaceHub(repo_id=\"google/flan-t5-large\", model_kwargs={\"temperature\":0.5, \"max_length\":64 })\n",
    "output = llm_hugging_face.invoke(\"can you write a poem about AI\")\n",
    "output\n",
    "llm.invoke(\"can you write a poem about AI\")\n",
    "\n",
    "# Prompt Templates & LLM Chains\n",
    "from langchain.prompts import PromptTemplate\n",
    "prompt_template = PromptTemplate(input_variables=['Country'], template = \"What is the capital of this {country}\")\n",
    "prompt_template.format(country = \"India\")\n",
    "from langchain.chains import LLMChain\n",
    "chain = LLMChain(llm = llm, prompt=prompt_template)\n",
    "chain.invoke(\"India\")\n",
    "# combining Multiple chains using simple sequential chain\n",
    "capital_template = PromptTemplate(input_variables=['country'], template=\"Give me the capital of {country}\")\n",
    "capital_chain = LLMChain(llm = llm, prompt=capital_template)\n",
    "famous_template = PromptTemplate(input_variables=['capital'], template=\"Suggest me some places to visit in {capital}\")\n",
    "famous_chain = LLMChain(llm = llm, prompt=famous_template)\n",
    "from langchain.chains import SimpleSequentialChain\n",
    "chain = SimpleSequentialChain(chains = [capital_chain, famous_chain])\n",
    "chain.invoke(\"India\")\n",
    "# Sequence Chain\n",
    "capital_template = PromptTemplate(input_variables=['country'], template=\"Give me the capital of {country}\")\n",
    "capital_chain = LLMChain(llm = llm, prompt=capital_template, output_key=\"capital\")\n",
    "\n",
    "neighbour_template = PromptTemplate(input_variables = ['country'], template = \"Give me the neighbouring states to {capital}\")\n",
    "neighbour_chain = LLMChain(llm = llm, prompt=neighbour_template, output_key=\"Neighbours\")\n",
    "from langchain.chains import SequentialChain\n",
    "chain = SequentialChain(chains=[capital_chain, neighbour_chain], input_variables=['country'], output_variables=['capital', 'Neighbours'])\n",
    "# chain({'country':\"India\"})\n",
    "chain.invoke('India')\n",
    "from langchain.chat_models import ChatOpenAI\n",
    "from langchain.schema import HumanMessage, SystemMessage, AIMessage\n",
    "chatllm = ChatOpenAI(openai_api_key=os.environ[\"OPEN_API_KEY\"], temperature = 0.5, model = 'gpt-3.5-turbo')\n",
    "\n",
    "chatllm\n",
    "chatllm([\n",
    "    SystemMessage(content=\"you are the dietician\"),\n",
    "    HumanMessage(content=\"please provide an Indian diet plan for 7 days to reduce weight. Use only vegetarian foods. give me quantiti too\")\n",
    "])\n",
    "# Prompt Template + LLM + Output Parsers\n",
    "from langchain.chat_models import ChatOpenAI\n",
    "from langchain.prompts.chat import ChatPromptTemplate\n",
    "from langchain.schema import BaseOutputParser\n",
    "class commaSeperatedOutput(BaseOutputParser):\n",
    "    def parse(self, text: str):\n",
    "        return text.strip().split(\",\")\n",
    "template = \"Your are a helpful assistant. When user gives any input, you should generate 5 synonym words with comma seperated\"\n",
    "human_template = \"{text}\"\n",
    "chatprompt = ChatPromptTemplate.from_messages([\n",
    "    (\"system\", template),\n",
    "    (\"human\", human_template) \n",
    "])\n",
    "chain = chatprompt|chatllm|commaSeperatedOutput()\n",
    "chain.invoke({\"text\":\"Intelligent\"})\n"
   ]
  }
 ],
 "metadata": {
  "kernelspec": {
   "display_name": "myenv",
   "language": "python",
   "name": "python3"
  },
  "language_info": {
   "name": "python",
   "version": "3.9.18"
  },
  "orig_nbformat": 4,
  "vscode": {
   "interpreter": {
    "hash": "4723def095dd0d9594d63181ca02f8879f20e96c54755cacae165d93682d070b"
   }
  }
 },
 "nbformat": 4,
 "nbformat_minor": 2
}
